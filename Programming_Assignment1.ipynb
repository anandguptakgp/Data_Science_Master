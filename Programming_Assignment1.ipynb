{
 "cells": [
  {
   "cell_type": "markdown",
   "id": "a5e8e4ae",
   "metadata": {},
   "source": [
    "### 1.\tWrite a Python program to print \"Hello Python\"?"
   ]
  },
  {
   "cell_type": "code",
   "execution_count": 2,
   "id": "0ba84052",
   "metadata": {},
   "outputs": [
    {
     "name": "stdout",
     "output_type": "stream",
     "text": [
      "Hello Python\n"
     ]
    }
   ],
   "source": [
    "print(\"Hello Python\")"
   ]
  },
  {
   "cell_type": "markdown",
   "id": "d74252de",
   "metadata": {},
   "source": [
    "### 2. Write a Python program to do arithmetical operations addition and division.?\n",
    "\n",
    "\n",
    "\n"
   ]
  },
  {
   "cell_type": "code",
   "execution_count": 6,
   "id": "77bd5d55",
   "metadata": {},
   "outputs": [
    {
     "name": "stdout",
     "output_type": "stream",
     "text": [
      "The sum of a and b is 10\n",
      "The value of a divided by b is 4.0\n"
     ]
    }
   ],
   "source": [
    "a = 8\n",
    "b= 2\n",
    "sum = a+b\n",
    "division = a/b\n",
    "\n",
    "print(\"The sum of a and b is\", sum)\n",
    "print(\"The value of a divided by b is\", division)"
   ]
  },
  {
   "cell_type": "markdown",
   "id": "12d7f8c7",
   "metadata": {},
   "source": [
    "### 3.\tWrite a Python program to find the area of a triangle?\n"
   ]
  },
  {
   "cell_type": "code",
   "execution_count": 9,
   "id": "c0e667b9",
   "metadata": {},
   "outputs": [
    {
     "name": "stdout",
     "output_type": "stream",
     "text": [
      "Enter an height: 10\n",
      "Enter an base: 6\n",
      "Area of triangle is 30.0\n"
     ]
    }
   ],
   "source": [
    "height = int(input(\"Enter an height: \"))\n",
    "base = int(input(\"Enter an base: \"))\n",
    "Area = 0.5*height*base\n",
    "print('Area of triangle is', Area )"
   ]
  },
  {
   "cell_type": "markdown",
   "id": "bc628b6e",
   "metadata": {},
   "source": [
    "### 4.\tWrite a Python program to swap two variables?\n"
   ]
  },
  {
   "cell_type": "code",
   "execution_count": 21,
   "id": "7eb5e5d7",
   "metadata": {},
   "outputs": [
    {
     "name": "stdout",
     "output_type": "stream",
     "text": [
      "Value of a: 2\n",
      "Value of b: 3\n"
     ]
    }
   ],
   "source": [
    "a = 3\n",
    "b = 2\n",
    "a, b = b, a\n",
    "print('Value of a:',a)\n",
    "print('Value of b:',b)"
   ]
  },
  {
   "cell_type": "markdown",
   "id": "d7262951",
   "metadata": {},
   "source": [
    "### 5.\tWrite a Python program to generate a random number?"
   ]
  },
  {
   "cell_type": "code",
   "execution_count": 35,
   "id": "c3d15886",
   "metadata": {},
   "outputs": [
    {
     "name": "stdout",
     "output_type": "stream",
     "text": [
      "7\n"
     ]
    }
   ],
   "source": [
    "import random\n",
    "lis = list(range(0,10,1))\n",
    "print(random.choice(lis))"
   ]
  },
  {
   "cell_type": "code",
   "execution_count": null,
   "id": "c7e8c11f",
   "metadata": {},
   "outputs": [],
   "source": []
  },
  {
   "cell_type": "code",
   "execution_count": null,
   "id": "430d5638",
   "metadata": {},
   "outputs": [],
   "source": []
  }
 ],
 "metadata": {
  "kernelspec": {
   "display_name": "Python 3 (ipykernel)",
   "language": "python",
   "name": "python3"
  },
  "language_info": {
   "codemirror_mode": {
    "name": "ipython",
    "version": 3
   },
   "file_extension": ".py",
   "mimetype": "text/x-python",
   "name": "python",
   "nbconvert_exporter": "python",
   "pygments_lexer": "ipython3",
   "version": "3.9.7"
  }
 },
 "nbformat": 4,
 "nbformat_minor": 5
}
