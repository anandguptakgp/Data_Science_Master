{
 "cells": [
  {
   "cell_type": "markdown",
   "id": "d38f769e",
   "metadata": {},
   "source": [
    "### 1.\tWrite a Python program to convert kilometers to miles?\n",
    "\n"
   ]
  },
  {
   "cell_type": "code",
   "execution_count": 8,
   "id": "53ea5869",
   "metadata": {},
   "outputs": [
    {
     "name": "stdout",
     "output_type": "stream",
     "text": [
      "Enter the value in km -2.9\n",
      "The value in miles is 1.8019729999999998\n"
     ]
    }
   ],
   "source": [
    "Km = float(input('Enter the value in km -'))\n",
    "miles = 0.62137*Km\n",
    "print(\"The value in miles is\", miles)"
   ]
  },
  {
   "cell_type": "markdown",
   "id": "c6e256d3",
   "metadata": {},
   "source": [
    "### 2.\tWrite a Python program to convert Celsius to Fahrenheit?\n"
   ]
  },
  {
   "cell_type": "code",
   "execution_count": 9,
   "id": "e82ae2c5",
   "metadata": {},
   "outputs": [
    {
     "name": "stdout",
     "output_type": "stream",
     "text": [
      "Enter the temp in celsius -100\n",
      "The value of Celsius degree in Fahrenheit is  180.0\n",
      "The value of Celsius degree in Kelvin is  373.15\n"
     ]
    }
   ],
   "source": [
    "c = float(input('Enter the temp in celsius -'))\n",
    "f = (9/5)*c\n",
    "k = 273.15 + c\n",
    "print('The value of Celsius degree in Fahrenheit is ', f)\n",
    "print('The value of Celsius degree in Kelvin is ', k)"
   ]
  },
  {
   "cell_type": "markdown",
   "id": "4b3a7dee",
   "metadata": {},
   "source": [
    "### 3.\tWrite a Python program to display calendar?\n"
   ]
  },
  {
   "cell_type": "code",
   "execution_count": 10,
   "id": "87c4ef34",
   "metadata": {},
   "outputs": [
    {
     "name": "stdout",
     "output_type": "stream",
     "text": [
      "Enter year: 2022\n",
      "Enter month: 5\n",
      "      May 2022\n",
      "Mo Tu We Th Fr Sa Su\n",
      "                   1\n",
      " 2  3  4  5  6  7  8\n",
      " 9 10 11 12 13 14 15\n",
      "16 17 18 19 20 21 22\n",
      "23 24 25 26 27 28 29\n",
      "30 31\n",
      "\n"
     ]
    }
   ],
   "source": [
    "import calendar \n",
    "yy = int(input(\"Enter year: \"))\n",
    "mm = int(input(\"Enter month: \"))\n",
    "\n",
    "print(calendar.month(yy, mm))"
   ]
  },
  {
   "cell_type": "markdown",
   "id": "d7006b15",
   "metadata": {},
   "source": [
    "### 4.\tWrite a Python program to solve quadratic equation?\n"
   ]
  },
  {
   "cell_type": "code",
   "execution_count": 12,
   "id": "01afc258",
   "metadata": {},
   "outputs": [
    {
     "name": "stdout",
     "output_type": "stream",
     "text": [
      "Enter the value of a 2\n",
      "Enter the value of b 4\n",
      "Enter the value of c 6\n",
      "The solution are (-1-1.4142135623730951j) and (-1+1.4142135623730951j)\n"
     ]
    }
   ],
   "source": [
    "import cmath\n",
    "# imported the cmath module to perform complex square root\n",
    "\n",
    "a = int(input(\"Enter the value of a \"))\n",
    "b = int(input(\"Enter the value of b \"))\n",
    "c = int(input(\"Enter the value of c \"))\n",
    "\n",
    "# calculate the discriminant\n",
    "d = (b**2) - (4*a*c)\n",
    "\n",
    "# find two solutions\n",
    "sol1 = (-b-cmath.sqrt(d))/(2*a)\n",
    "sol2 = (-b+cmath.sqrt(d))/(2*a)\n",
    "\n",
    "print('The solution are {0} and {1}'.format(sol1,sol2))"
   ]
  },
  {
   "cell_type": "markdown",
   "id": "9e6eefa6",
   "metadata": {},
   "source": [
    "### 5.\tWrite a Python program to swap two variables without temp variable?"
   ]
  },
  {
   "cell_type": "code",
   "execution_count": 16,
   "id": "24775821",
   "metadata": {},
   "outputs": [
    {
     "name": "stdout",
     "output_type": "stream",
     "text": [
      "Enter the value of a 20\n",
      "Enter the value of b 50\n",
      "the value of a: 50\n",
      "the value of b: 20\n"
     ]
    }
   ],
   "source": [
    "a = int(input(\"Enter the value of a \"))\n",
    "b = int(input(\"Enter the value of b \"))\n",
    "a,b = b,a\n",
    "#print(a,b)\n",
    "print(\"the value of a:\", a)\n",
    "print(\"the value of b:\", b)"
   ]
  },
  {
   "cell_type": "code",
   "execution_count": null,
   "id": "db1cf25d",
   "metadata": {},
   "outputs": [],
   "source": []
  }
 ],
 "metadata": {
  "kernelspec": {
   "display_name": "Python 3 (ipykernel)",
   "language": "python",
   "name": "python3"
  },
  "language_info": {
   "codemirror_mode": {
    "name": "ipython",
    "version": 3
   },
   "file_extension": ".py",
   "mimetype": "text/x-python",
   "name": "python",
   "nbconvert_exporter": "python",
   "pygments_lexer": "ipython3",
   "version": "3.9.7"
  }
 },
 "nbformat": 4,
 "nbformat_minor": 5
}
